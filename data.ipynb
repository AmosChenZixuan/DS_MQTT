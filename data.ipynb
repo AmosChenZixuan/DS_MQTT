{
 "cells": [
  {
   "cell_type": "code",
   "execution_count": 2,
   "metadata": {},
   "outputs": [],
   "source": [
    "import os\n",
    "import pandas as pd \n",
    "import numpy as np"
   ]
  },
  {
   "cell_type": "code",
   "execution_count": 3,
   "metadata": {},
   "outputs": [
    {
     "name": "stdout",
     "output_type": "stream",
     "text": [
      "Number of bruteforce: 14501\n",
      "Number of slowite: 9202\n",
      "Number of flood: 613\n"
     ]
    },
    {
     "name": "stderr",
     "output_type": "stream",
     "text": [
      "/var/folders/yv/rl10xyh574v0pblkn8707bzr0000gn/T/ipykernel_60898/1972987587.py:8: DtypeWarning: Columns (21,23,34,39,45) have mixed types. Specify dtype option on import or set low_memory=False.\n",
      "  df = pd.read_csv(file_path)\n"
     ]
    },
    {
     "name": "stdout",
     "output_type": "stream",
     "text": [
      "Number of legitimate_1w: 11915716\n",
      "Number of malformed: 10924\n"
     ]
    },
    {
     "name": "stderr",
     "output_type": "stream",
     "text": [
      "/var/folders/yv/rl10xyh574v0pblkn8707bzr0000gn/T/ipykernel_60898/1972987587.py:8: DtypeWarning: Columns (21,23,34,45) have mixed types. Specify dtype option on import or set low_memory=False.\n",
      "  df = pd.read_csv(file_path)\n"
     ]
    },
    {
     "name": "stdout",
     "output_type": "stream",
     "text": [
      "Number of malaria: 130223\n"
     ]
    }
   ],
   "source": [
    "data_dir = 'Data/CSV'\n",
    "dataframes = []\n",
    "for file_name in os.listdir(data_dir):\n",
    "    file_path = os.path.join(data_dir, file_name)\n",
    "    target = file_name[:-4] # remove \".csv\"\n",
    "    taget = target.split('_')[0] \n",
    "\n",
    "    df = pd.read_csv(file_path)\n",
    "    df.fillna(0, inplace=True)\n",
    "    df['target'] = target\n",
    "    dataframes.append(df)\n",
    "    \n",
    "    print(f\"Number of {target}: \" + str(df.shape[0]))\n",
    "\n",
    "data = pd.concat(dataframes)"
   ]
  },
  {
   "cell_type": "markdown",
   "metadata": {},
   "source": [
    "# Distribution"
   ]
  },
  {
   "cell_type": "code",
   "execution_count": 4,
   "metadata": {},
   "outputs": [
    {
     "data": {
      "text/plain": [
       "<AxesSubplot: >"
      ]
     },
     "execution_count": 4,
     "metadata": {},
     "output_type": "execute_result"
    },
    {
     "data": {
      "image/png": "[encoded data removed]",
      "text/plain": [
       "<Figure size 640x480 with 1 Axes>"
      ]
     },
     "metadata": {},
     "output_type": "display_data"
    }
   ],
   "source": [
    "data['target'].value_counts().plot(kind='bar',logy=True)"
   ]
  },
  {
   "cell_type": "code",
   "execution_count": 22,
   "metadata": {},
   "outputs": [
    {
     "name": "stdout",
     "output_type": "stream",
     "text": [
      "frame.time_delta              float64\n",
      "frame.time_delta_displayed    float64\n",
      "frame.time_epoch              float64\n",
      "frame.time_invalid            float64\n",
      "frame.time_relative           float64\n",
      "eth.src                        object\n",
      "eth.dst                        object\n",
      "ip.src                         object\n",
      "ip.dst                         object\n",
      "tcp.srcport                     int64\n",
      "tcp.dstport                     int64\n",
      "tcp.flags                      object\n",
      "frame.cap_len                   int64\n",
      "frame.len                       int64\n",
      "frame.number                    int64\n",
      "tcp.stream                      int64\n",
      "tcp.analysis.initial_rtt      float64\n",
      "tcp.time_delta                float64\n",
      "tcp.len                         int64\n",
      "tcp.window_size_value           int64\n",
      "tcp.checksum                   object\n",
      "mqtt.clientid                  object\n",
      "mqtt.clientid_len             float64\n",
      "mqtt.conack.flags              object\n",
      "mqtt.conack.flags.reserved    float64\n",
      "mqtt.conack.flags.sp          float64\n",
      "mqtt.conack.val               float64\n",
      "mqtt.conflag.cleansess        float64\n",
      "mqtt.conflag.passwd           float64\n",
      "mqtt.conflag.qos              float64\n",
      "mqtt.conflag.reserved         float64\n",
      "mqtt.conflag.retain           float64\n",
      "mqtt.conflag.uname            float64\n",
      "mqtt.conflag.willflag         float64\n",
      "mqtt.conflags                  object\n",
      "mqtt.dupflag                  float64\n",
      "mqtt.hdrflags                  object\n",
      "mqtt.kalive                   float64\n",
      "mqtt.len                      float64\n",
      "mqtt.msg                       object\n",
      "mqtt.msgid                    float64\n",
      "mqtt.msgtype                  float64\n",
      "mqtt.passwd                    object\n",
      "mqtt.passwd_len               float64\n",
      "mqtt.proto_len                float64\n",
      "mqtt.protoname                 object\n",
      "mqtt.qos                      float64\n",
      "mqtt.retain                   float64\n",
      "mqtt.sub.qos                  float64\n",
      "mqtt.suback.qos               float64\n",
      "mqtt.topic                     object\n",
      "mqtt.topic_len                float64\n",
      "mqtt.username                  object\n",
      "mqtt.username_len             float64\n",
      "mqtt.ver                      float64\n",
      "mqtt.willmsg                  float64\n",
      "mqtt.willmsg_len              float64\n",
      "mqtt.willtopic                float64\n",
      "mqtt.willtopic_len            float64\n",
      "ip.proto                        int64\n",
      "target                         object\n"
     ]
    }
   ],
   "source": [
    "print(data.dtypes.to_string())"
   ]
  },
  {
   "cell_type": "markdown",
   "metadata": {},
   "source": [
    "# Drop Useless Columns"
   ]
  },
  {
   "cell_type": "code",
   "execution_count": 57,
   "metadata": {},
   "outputs": [
    {
     "data": {
      "text/plain": [
       "6    12081179\n",
       "Name: ip.proto, dtype: int64"
      ]
     },
     "execution_count": 57,
     "metadata": {},
     "output_type": "execute_result"
    }
   ],
   "source": [
    "data['ip.proto'].value_counts()"
   ]
  },
  {
   "cell_type": "code",
   "execution_count": 58,
   "metadata": {},
   "outputs": [],
   "source": [
    "# columns with extreme distribution e.g. mostly zeors or null\n",
    "cols_bad_dist = ['tcp.checksum','mqtt.msg', 'mqtt.topic', 'mqtt.username', 'mqtt.protoname',\n",
    "            'mqtt.passwd', 'mqtt.conack.flags', 'mqtt.conflags', 'ip.proto']\n",
    "# columns that are not useful\n",
    "cols_not_informative = ['eth.src', 'eth.dst', 'ip.src', 'ip.dst', 'mqtt.passwd_len',\n",
    "            'mqtt.username_len', 'mqtt.clientid']\n",
    "\n",
    "cols_to_drop = cols_bad_dist + cols_not_informative\n",
    "data = data.drop(columns=cols_to_drop)"
   ]
  },
  {
   "cell_type": "markdown",
   "metadata": {},
   "source": [
    "# preprocess feature columns"
   ]
  },
  {
   "cell_type": "code",
   "execution_count": 63,
   "metadata": {},
   "outputs": [
    {
     "name": "stdout",
     "output_type": "stream",
     "text": [
      "tcp.flags object (8,)\n",
      "mqtt.hdrflags object (14,)\n",
      "[array(['0x00000002', '0x00000004', '0x00000010', '0x00000011',\n",
      "       '0x00000012', '0x00000014', '0x00000018', '0x00000019'],\n",
      "      dtype=object), array(['0', '0x00000010', '0x00000020', '0x00000030', '0x00000031',\n",
      "       '0x00000032', '0x0000003a', '0x00000040', '0x00000050',\n",
      "       '0x00000082', '0x00000090', '0x000000c0', '0x000000d0',\n",
      "       '0x000000e0'], dtype=object)]\n"
     ]
    }
   ],
   "source": [
    "from sklearn.preprocessing import OrdinalEncoder\n",
    "enc = OrdinalEncoder()\n",
    "\n",
    "features_to_encode = []\n",
    "for col, dtype in data.dtypes.iteritems():\n",
    "    # skip target \n",
    "    if col == 'target':\n",
    "        continue\n",
    "    # encode string features\n",
    "    if str(dtype) == \"object\":\n",
    "        print(col, dtype, data[col].unique().shape)\n",
    "        # null was converted to 0, need to be converted to string for the encoder\n",
    "        data[col] = data[col].astype(str)\n",
    "        features_to_encode.append(col)\n",
    "\n",
    "sub_data = data[features_to_encode]\n",
    "enc.fit(sub_data)\n",
    "print(enc.categories_)\n",
    "data[features_to_encode] = enc.transform(sub_data)\n"
   ]
  },
  {
   "cell_type": "markdown",
   "metadata": {},
   "source": [
    "# Encode labels"
   ]
  },
  {
   "cell_type": "code",
   "execution_count": 64,
   "metadata": {},
   "outputs": [
    {
     "name": "stdout",
     "output_type": "stream",
     "text": [
      "['bruteforce' 'flood' 'legitimate_1w' 'malaria' 'malformed' 'slowite']\n"
     ]
    }
   ],
   "source": [
    "from sklearn.preprocessing import LabelEncoder\n",
    "lenc = LabelEncoder()\n",
    "\n",
    "lenc.fit(data['target'])\n",
    "print(lenc.classes_)\n",
    "data['target'] = lenc.transform(data['target'])"
   ]
  },
  {
   "cell_type": "markdown",
   "metadata": {},
   "source": [
    "# Cast feature types"
   ]
  },
  {
   "cell_type": "code",
   "execution_count": 66,
   "metadata": {},
   "outputs": [],
   "source": [
    "features = data.drop(columns=['target'])\n",
    "features = features.astype(np.float64)\n",
    "labels   = data['target']"
   ]
  },
  {
   "cell_type": "markdown",
   "metadata": {},
   "source": [
    "# Train/Test Split and Save to files"
   ]
  },
  {
   "cell_type": "code",
   "execution_count": 81,
   "metadata": {},
   "outputs": [],
   "source": [
    "from sklearn.model_selection import train_test_split\n",
    "\n",
    "X_train, X_test, y_train, y_test = train_test_split(features, labels, test_size=0.3, random_state=42)"
   ]
  },
  {
   "cell_type": "code",
   "execution_count": 82,
   "metadata": {},
   "outputs": [],
   "source": [
    "def save_file(df, file_name):\n",
    "    save_dir = 'Data'\n",
    "    df.to_csv(os.path.join(save_dir, file_name), index = False, header=True)\n",
    "\n",
    "X_train['target'] = y_train\n",
    "save_file(X_train, 'train.csv')\n",
    "\n",
    "X_test['target'] = y_test\n",
    "save_file(X_test, 'test.csv')"
   ]
  },
  {
   "cell_type": "code",
   "execution_count": 83,
   "metadata": {},
   "outputs": [
    {
     "data": {
      "text/plain": [
       "8371781     1.592380e+09\n",
       "2702732     1.592092e+09\n",
       "37679       1.591957e+09\n",
       "11211625    1.592524e+09\n",
       "2740733     1.592094e+09\n",
       "                ...     \n",
       "816598      1.591996e+09\n",
       "8747751     1.592399e+09\n",
       "11367370    1.592532e+09\n",
       "3806973     1.592148e+09\n",
       "10200911    1.592473e+09\n",
       "Name: frame.time_epoch, Length: 3624354, dtype: float64"
      ]
     },
     "execution_count": 83,
     "metadata": {},
     "output_type": "execute_result"
    }
   ],
   "source": []
  },
  {
   "cell_type": "code",
   "execution_count": null,
   "metadata": {},
   "outputs": [],
   "source": []
  }
 ],
 "metadata": {
  "kernelspec": {
   "display_name": "Python 3.8.13 ('ds')",
   "language": "python",
   "name": "python3"
  },
  "language_info": {
   "codemirror_mode": {
    "name": "ipython",
    "version": 3
   },
   "file_extension": ".py",
   "mimetype": "text/x-python",
   "name": "python",
   "nbconvert_exporter": "python",
   "pygments_lexer": "ipython3",
   "version": "3.8.13"
  },
  "orig_nbformat": 4,
  "vscode": {
   "interpreter": {
    "hash": "41af028af823f43b75c2c20ea16fbca771c765270e4c84d9dca821bfdd5f0240"
   }
  }
 },
 "nbformat": 4,
 "nbformat_minor": 2
}
