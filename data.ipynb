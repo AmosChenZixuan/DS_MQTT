{
 "cells": [
  {
   "cell_type": "code",
   "execution_count": 1,
   "metadata": {},
   "outputs": [],
   "source": [
    "import pandas as pd \n",
    "import numpy as np"
   ]
  },
  {
   "cell_type": "code",
   "execution_count": 8,
   "metadata": {},
   "outputs": [
    {
     "name": "stderr",
     "output_type": "stream",
     "text": [
      "C:\\Users\\Amos\\AppData\\Local\\Temp\\ipykernel_2160\\3526947548.py:1: DtypeWarning: Columns (3,14,19,23) have mixed types. Specify dtype option on import or set low_memory=False.\n",
      "  df = pd.read_csv('Data/FINAL_CSV/train70.csv')\n"
     ]
    }
   ],
   "source": [
    "df = pd.read_csv('Data/FINAL_CSV/train70.csv')"
   ]
  },
  {
   "cell_type": "code",
   "execution_count": 28,
   "metadata": {},
   "outputs": [
    {
     "name": "stdout",
     "output_type": "stream",
     "text": [
      "8\n",
      "3\n",
      "5\n",
      "14\n",
      "36581\n",
      "3\n",
      "6\n"
     ]
    }
   ],
   "source": [
    "for col, dtype in df.dtypes.iteritems():\n",
    "    if str(dtype) == 'object':\n",
    "        print(df[col].nunique())"
   ]
  },
  {
   "cell_type": "code",
   "execution_count": null,
   "metadata": {},
   "outputs": [],
   "source": []
  },
  {
   "cell_type": "code",
   "execution_count": 18,
   "metadata": {},
   "outputs": [
    {
     "data": {
      "text/plain": [
       "<zip at 0x24493118cc0>"
      ]
     },
     "execution_count": 18,
     "metadata": {},
     "output_type": "execute_result"
    }
   ],
   "source": []
  }
 ],
 "metadata": {
  "kernelspec": {
   "display_name": "Python 3.8.13 ('668')",
   "language": "python",
   "name": "python3"
  },
  "language_info": {
   "codemirror_mode": {
    "name": "ipython",
    "version": 3
   },
   "file_extension": ".py",
   "mimetype": "text/x-python",
   "name": "python",
   "nbconvert_exporter": "python",
   "pygments_lexer": "ipython3",
   "version": "3.8.13"
  },
  "orig_nbformat": 4,
  "vscode": {
   "interpreter": {
    "hash": "c840e617396d982766718f7a530f5c1768c8d6195d3cc20ff5a27d096f1c0f0f"
   }
  }
 },
 "nbformat": 4,
 "nbformat_minor": 2
}
