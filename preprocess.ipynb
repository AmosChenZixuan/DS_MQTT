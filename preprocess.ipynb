{
 "cells": [
  {
   "cell_type": "code",
   "execution_count": 1,
   "metadata": {},
   "outputs": [],
   "source": [
    "import numpy as np\n",
    "import pandas as pd"
   ]
  },
  {
   "cell_type": "code",
   "execution_count": 2,
   "metadata": {},
   "outputs": [],
   "source": [
    "train = pd.read_csv('Data/train.csv')\n",
    "test  = pd.read_csv('Data/test.csv')"
   ]
  },
  {
   "cell_type": "code",
   "execution_count": 3,
   "metadata": {},
   "outputs": [],
   "source": [
    "x_train = train.drop(columns=['target']).values\n",
    "y_train = train['target'].values\n",
    "\n",
    "x_test = test.drop(columns=['target']).values\n",
    "y_test = test['target'].values"
   ]
  },
  {
   "cell_type": "markdown",
   "metadata": {},
   "source": [
    "# 1. Feature Scaling"
   ]
  },
  {
   "cell_type": "code",
   "execution_count": 4,
   "metadata": {},
   "outputs": [],
   "source": [
    "from sklearn.preprocessing import StandardScaler\n",
    "\n",
    "scaler = StandardScaler().fit(x_train)\n",
    "\n",
    "x_train = scaler.transform(x_train)\n",
    "x_test = scaler.transform(x_test)"
   ]
  },
  {
   "cell_type": "markdown",
   "metadata": {},
   "source": [
    "# 2. Augmentation"
   ]
  },
  {
   "cell_type": "code",
   "execution_count": 5,
   "metadata": {},
   "outputs": [],
   "source": [
    "from imblearn.over_sampling import RandomOverSampler, SMOTE\n",
    "from imblearn.combine import SMOTETomek\n",
    "from collections import Counter"
   ]
  },
  {
   "cell_type": "code",
   "execution_count": 6,
   "metadata": {},
   "outputs": [
    {
     "name": "stdout",
     "output_type": "stream",
     "text": [
      "[(0, 10170), (1, 428), (2, 8340692), (3, 91465), (4, 7637), (5, 6433)]\n"
     ]
    }
   ],
   "source": [
    "print(sorted(Counter(y_train).items()))"
   ]
  },
  {
   "cell_type": "code",
   "execution_count": 8,
   "metadata": {},
   "outputs": [],
   "source": [
    "major_count = 8340692\n",
    "\n",
    "strategy = {\n",
    "    0:major_count//5,\n",
    "    1:major_count//5,\n",
    "    2:major_count,\n",
    "    3:major_count//5,\n",
    "    4:major_count//5,\n",
    "    5:major_count//5\n",
    "}"
   ]
  },
  {
   "cell_type": "markdown",
   "metadata": {},
   "source": [
    "## Oversampling"
   ]
  },
  {
   "cell_type": "code",
   "execution_count": 9,
   "metadata": {},
   "outputs": [
    {
     "name": "stdout",
     "output_type": "stream",
     "text": [
      "[(0, 1668138), (1, 1668138), (2, 8340692), (3, 1668138), (4, 1668138), (5, 1668138)]\n"
     ]
    }
   ],
   "source": [
    "ros = RandomOverSampler(sampling_strategy=strategy, random_state=42)\n",
    "x_over, y_over = ros.fit_resample(x_train, y_train)\n",
    "\n",
    "print(sorted(Counter(y_over).items()))"
   ]
  },
  {
   "cell_type": "markdown",
   "metadata": {},
   "source": [
    "## SMOTE (Synthetic Minority Over-sampling )"
   ]
  },
  {
   "cell_type": "code",
   "execution_count": 15,
   "metadata": {},
   "outputs": [
    {
     "name": "stdout",
     "output_type": "stream",
     "text": [
      "[(0, 1668138), (1, 1668138), (2, 8340692), (3, 1668138), (4, 1668138), (5, 1668138)]\n"
     ]
    }
   ],
   "source": [
    "sm = SMOTE(sampling_strategy=strategy,random_state=42)\n",
    "x_smote, y_smote = sm.fit_resample(x_train, y_train)\n",
    "\n",
    "print(sorted(Counter(y_smote).items()))"
   ]
  },
  {
   "cell_type": "markdown",
   "metadata": {},
   "source": [
    "# SMOTE + Tomek links"
   ]
  },
  {
   "cell_type": "code",
   "execution_count": 11,
   "metadata": {},
   "outputs": [],
   "source": [
    "sme = SMOTETomek(sampling_strategy=strategy,random_state=42)\n",
    "x_smotetomek, y_smotetomek = sme.fit_resample(x_train, y_train)\n",
    "\n",
    "print(sorted(Counter(y_smotetomek).items()))"
   ]
  },
  {
   "cell_type": "markdown",
   "metadata": {},
   "source": [
    "# Example ML"
   ]
  },
  {
   "cell_type": "code",
   "execution_count": 10,
   "metadata": {},
   "outputs": [],
   "source": [
    "from sklearn.metrics import accuracy_score, f1_score\n",
    "\n",
    "def eval(model, x_tr, x_te, y_tr, y_te):\n",
    "    yh = model.predict(x_tr)\n",
    "    print(accuracy_score(y_tr, yh), f1_score(y_tr, yh, average=None))\n",
    "\n",
    "    yh = model.predict(x_te)\n",
    "    print(accuracy_score(y_te, yh), f1_score(y_te, yh, average=None))"
   ]
  },
  {
   "cell_type": "code",
   "execution_count": 11,
   "metadata": {},
   "outputs": [],
   "source": [
    "from sklearn.tree import DecisionTreeClassifier"
   ]
  },
  {
   "cell_type": "code",
   "execution_count": 12,
   "metadata": {},
   "outputs": [
    {
     "name": "stdout",
     "output_type": "stream",
     "text": [
      "0.9969765248778354 [0.79892359 0.66976744 0.99873069 0.88107685 0.76840467 0.75960118]\n",
      "0.9967489378796883 [0.7457137  0.62773723 0.99871309 0.8763329  0.66593767 0.70846941]\n"
     ]
    }
   ],
   "source": [
    "rf = DecisionTreeClassifier(random_state=42)\n",
    "\n",
    "cols = [5,7]\n",
    "rf.fit(x_train[:, :], y_train)\n",
    "eval(rf, x_train[:, :], x_test[:, :], y_train, y_test)"
   ]
  },
  {
   "cell_type": "code",
   "execution_count": 13,
   "metadata": {},
   "outputs": [
    {
     "name": "stdout",
     "output_type": "stream",
     "text": [
      "0.8830413451355529 [0.80791488 0.80623752 0.9469674  0.88430157 0.79225773 0.77939193]\n",
      "0.9797224553672186 [0.6897007  0.00714789 0.9903089  0.78993171 0.48037338 0.21985158]\n"
     ]
    }
   ],
   "source": [
    "rf = DecisionTreeClassifier(random_state=42)\n",
    "\n",
    "rf.fit(x_over, y_over)\n",
    "eval(rf, x_over, x_test, y_over, y_test)"
   ]
  },
  {
   "cell_type": "code",
   "execution_count": 16,
   "metadata": {},
   "outputs": [
    {
     "name": "stdout",
     "output_type": "stream",
     "text": [
      "0.8328004837968461 [0.7470074  0.67977858 0.90474285 0.835983   0.70998428 0.73961155]\n",
      "0.9955454130584375 [0.68422212 0.50285714 0.99821513 0.83284148 0.5271208  0.6706684 ]\n"
     ]
    }
   ],
   "source": [
    "rf = DecisionTreeClassifier(random_state=42)\n",
    "\n",
    "rf.fit(x_smote, y_smote)\n",
    "eval(rf, x_smote, x_test, y_smote, y_test)"
   ]
  },
  {
   "cell_type": "code",
   "execution_count": null,
   "metadata": {},
   "outputs": [],
   "source": [
    "rf = DecisionTreeClassifier(random_state=42)\n",
    "\n",
    "rf.fit(x_smotetomek, y_smotetomek)\n",
    "eval(rf, x_smotetomek, x_test, y_smotetomek, y_test)"
   ]
  },
  {
   "cell_type": "code",
   "execution_count": null,
   "metadata": {},
   "outputs": [
    {
     "data": {
      "text/plain": [
       "11783"
      ]
     },
     "execution_count": 26,
     "metadata": {},
     "output_type": "execute_result"
    }
   ],
   "source": [
    "yh = rf.predict(x_test)\n",
    "sum(yh != y_test)"
   ]
  },
  {
   "cell_type": "code",
   "execution_count": null,
   "metadata": {},
   "outputs": [
    {
     "data": {
      "text/plain": [
       "Index(['tcp.flags', 'tcp.time_delta', 'tcp.len', 'mqtt.conack.flags',\n",
       "       'mqtt.conack.flags.reserved', 'mqtt.conack.flags.sp', 'mqtt.conack.val',\n",
       "       'mqtt.conflag.cleansess', 'mqtt.conflag.passwd', 'mqtt.conflag.qos',\n",
       "       'mqtt.conflag.reserved', 'mqtt.conflag.retain', 'mqtt.conflag.uname',\n",
       "       'mqtt.conflag.willflag', 'mqtt.conflags', 'mqtt.dupflag',\n",
       "       'mqtt.hdrflags', 'mqtt.kalive', 'mqtt.len', 'mqtt.msg', 'mqtt.msgid',\n",
       "       'mqtt.msgtype', 'mqtt.proto_len', 'mqtt.protoname', 'mqtt.qos',\n",
       "       'mqtt.retain', 'mqtt.sub.qos', 'mqtt.suback.qos', 'mqtt.ver', 'target'],\n",
       "      dtype='object')"
      ]
     },
     "execution_count": 27,
     "metadata": {},
     "output_type": "execute_result"
    }
   ],
   "source": [
    "train.columns"
   ]
  },
  {
   "cell_type": "code",
   "execution_count": null,
   "metadata": {},
   "outputs": [],
   "source": []
  }
 ],
 "metadata": {
  "kernelspec": {
   "display_name": "Python 3.8.13 ('ds')",
   "language": "python",
   "name": "python3"
  },
  "language_info": {
   "codemirror_mode": {
    "name": "ipython",
    "version": 3
   },
   "file_extension": ".py",
   "mimetype": "text/x-python",
   "name": "python",
   "nbconvert_exporter": "python",
   "pygments_lexer": "ipython3",
   "version": "3.8.13"
  },
  "orig_nbformat": 4,
  "vscode": {
   "interpreter": {
    "hash": "41af028af823f43b75c2c20ea16fbca771c765270e4c84d9dca821bfdd5f0240"
   }
  }
 },
 "nbformat": 4,
 "nbformat_minor": 2
}
