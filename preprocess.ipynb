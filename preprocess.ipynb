{
 "cells": [
  {
   "cell_type": "code",
   "execution_count": 1,
   "metadata": {},
   "outputs": [],
   "source": [
    "import numpy as np\n",
    "import pandas as pd"
   ]
  },
  {
   "cell_type": "code",
   "execution_count": 2,
   "metadata": {},
   "outputs": [],
   "source": [
    "train = pd.read_csv('Data/train.csv')\n",
    "test  = pd.read_csv('Data/test.csv')"
   ]
  },
  {
   "cell_type": "code",
   "execution_count": 3,
   "metadata": {},
   "outputs": [],
   "source": [
    "x_train = train.drop(columns=['target']).values\n",
    "y_train = train['target'].values\n",
    "\n",
    "x_test = test.drop(columns=['target']).values\n",
    "y_test = test['target'].values"
   ]
  },
  {
   "cell_type": "markdown",
   "metadata": {},
   "source": [
    "# 1. Feature Scaling"
   ]
  },
  {
   "cell_type": "code",
   "execution_count": 4,
   "metadata": {},
   "outputs": [],
   "source": [
    "from sklearn.preprocessing import StandardScaler\n",
    "\n",
    "scaler = StandardScaler().fit(x_train)\n",
    "\n",
    "x_train = scaler.transform(x_train)\n",
    "x_test = scaler.transform(x_test)"
   ]
  },
  {
   "cell_type": "markdown",
   "metadata": {},
   "source": [
    "# 2. Augmentation"
   ]
  },
  {
   "cell_type": "code",
   "execution_count": 5,
   "metadata": {},
   "outputs": [],
   "source": [
    "from imblearn.over_sampling import RandomOverSampler, SMOTE\n",
    "from collections import Counter"
   ]
  },
  {
   "cell_type": "markdown",
   "metadata": {},
   "source": [
    "## Oversampling"
   ]
  },
  {
   "cell_type": "code",
   "execution_count": 6,
   "metadata": {},
   "outputs": [
    {
     "name": "stdout",
     "output_type": "stream",
     "text": [
      "[(0, 8340692), (1, 8340692), (2, 8340692), (3, 8340692), (4, 8340692), (5, 8340692)]\n"
     ]
    }
   ],
   "source": [
    "ros = RandomOverSampler(random_state=42)\n",
    "x_over, y_over = ros.fit_resample(x_train, y_train)\n",
    "\n",
    "print(sorted(Counter(y_over).items()))"
   ]
  },
  {
   "cell_type": "markdown",
   "metadata": {},
   "source": [
    "## SMOTE (Synthetic Minority Over-sampling )"
   ]
  },
  {
   "cell_type": "code",
   "execution_count": 7,
   "metadata": {},
   "outputs": [
    {
     "name": "stdout",
     "output_type": "stream",
     "text": [
      "[(0, 8340692), (1, 8340692), (2, 8340692), (3, 8340692), (4, 8340692), (5, 8340692)]\n"
     ]
    }
   ],
   "source": [
    "sm = SMOTE(random_state=42)\n",
    "x_smote, y_smote = sm.fit_resample(x_train, y_train)\n",
    "\n",
    "print(sorted(Counter(y_smote).items()))"
   ]
  },
  {
   "cell_type": "code",
   "execution_count": null,
   "metadata": {},
   "outputs": [],
   "source": []
  },
  {
   "cell_type": "code",
   "execution_count": 8,
   "metadata": {},
   "outputs": [],
   "source": [
    "from sklearn.metrics import accuracy_score, f1_score\n",
    "\n",
    "def eval(model, x_tr, x_te, y_tr, y_te):\n",
    "    yh = model.predict(x_tr)\n",
    "    print(accuracy_score(y_tr, yh), f1_score(y_tr, yh, average=None))\n",
    "\n",
    "    yh = model.predict(x_te)\n",
    "    print(accuracy_score(y_te, yh), f1_score(y_te, yh, average=None))"
   ]
  },
  {
   "cell_type": "code",
   "execution_count": 9,
   "metadata": {},
   "outputs": [
    {
     "name": "stdout",
     "output_type": "stream",
     "text": [
      "1.0 [1. 1. 1. 1. 1. 1.]\n",
      "1.0 [1. 1. 1. 1. 1. 1.]\n"
     ]
    }
   ],
   "source": [
    "from sklearn.tree import DecisionTreeClassifier\n",
    "\n",
    "rf = DecisionTreeClassifier(random_state=42)\n",
    "\n",
    "rf.fit(x_train, y_train)\n",
    "eval(rf, x_train, x_test, y_train, y_test)"
   ]
  },
  {
   "cell_type": "code",
   "execution_count": 10,
   "metadata": {},
   "outputs": [
    {
     "name": "stdout",
     "output_type": "stream",
     "text": [
      "1.0 [1. 1. 1. 1. 1. 1.]\n",
      "1.0 [1. 1. 1. 1. 1. 1.]\n"
     ]
    }
   ],
   "source": [
    "rf = DecisionTreeClassifier(random_state=42)\n",
    "\n",
    "rf.fit(x_over, y_over)\n",
    "eval(rf, x_over, x_test, y_over, y_test)"
   ]
  },
  {
   "cell_type": "code",
   "execution_count": 11,
   "metadata": {},
   "outputs": [
    {
     "name": "stdout",
     "output_type": "stream",
     "text": [
      "1.0 [1. 1. 1. 1. 1. 1.]\n",
      "1.0 [1. 1. 1. 1. 1. 1.]\n"
     ]
    }
   ],
   "source": [
    "rf = DecisionTreeClassifier(random_state=42)\n",
    "\n",
    "rf.fit(x_smote, y_smote)\n",
    "eval(rf, x_smote, x_test, y_smote, y_test)"
   ]
  }
 ],
 "metadata": {
  "kernelspec": {
   "display_name": "Python 3.8.13 ('ds')",
   "language": "python",
   "name": "python3"
  },
  "language_info": {
   "codemirror_mode": {
    "name": "ipython",
    "version": 3
   },
   "file_extension": ".py",
   "mimetype": "text/x-python",
   "name": "python",
   "nbconvert_exporter": "python",
   "pygments_lexer": "ipython3",
   "version": "3.8.13"
  },
  "orig_nbformat": 4,
  "vscode": {
   "interpreter": {
    "hash": "41af028af823f43b75c2c20ea16fbca771c765270e4c84d9dca821bfdd5f0240"
   }
  }
 },
 "nbformat": 4,
 "nbformat_minor": 2
}
