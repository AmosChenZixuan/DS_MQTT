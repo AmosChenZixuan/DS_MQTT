{
 "cells": [
  {
   "cell_type": "code",
   "execution_count": 1,
   "metadata": {},
   "outputs": [],
   "source": [
    "import pickle \n",
    "import Resampler as res\n",
    "import numpy as np\n",
    "import pandas as pd"
   ]
  },
  {
   "cell_type": "code",
   "execution_count": 2,
   "metadata": {},
   "outputs": [],
   "source": [
    "train = pd.read_csv('Data/train.csv')\n",
    "test  = pd.read_csv('Data/test.csv')\n",
    "\n",
    "x_train = train.drop(columns=['target']).values\n",
    "y_train = train['target'].values\n",
    "\n",
    "x_test = test.drop(columns=['target']).values\n",
    "y_test = test['target'].values"
   ]
  },
  {
   "cell_type": "code",
   "execution_count": 3,
   "metadata": {},
   "outputs": [],
   "source": [
    "from sklearn.preprocessing import StandardScaler\n",
    "\n",
    "scaler = StandardScaler().fit(x_train)\n",
    "\n",
    "x_train = scaler.transform(x_train)\n",
    "x_test = scaler.transform(x_test)"
   ]
  },
  {
   "cell_type": "code",
   "execution_count": 7,
   "metadata": {},
   "outputs": [],
   "source": [
    "dist = res.class_distribution(y_train)"
   ]
  },
  {
   "cell_type": "code",
   "execution_count": 8,
   "metadata": {},
   "outputs": [],
   "source": [
    "n_majority = int(x_train.shape[0] * 0.7)\n",
    "\n",
    "n_minorities = np.array(dist)[[0,1,3,4,5],1]\n",
    "weights = n_minorities / n_minorities.sum()\n",
    "n_minorities = (weights * n_majority).astype(int)\n",
    "\n",
    "undersample_strategy = {2: n_majority}\n",
    "oversample_strategy = {\n",
    "    0: n_minorities[0],\n",
    "    1: n_minorities[1],\n",
    "    3: n_minorities[2],\n",
    "    4: n_minorities[3],\n",
    "    5: n_minorities[4],\n",
    "}\n"
   ]
  },
  {
   "cell_type": "code",
   "execution_count": 9,
   "metadata": {},
   "outputs": [
    {
     "data": {
      "text/plain": [
       "[(0, 518406), (1, 21816), (2, 5919777), (3, 4662347), (4, 389289), (5, 327916)]"
      ]
     },
     "execution_count": 9,
     "metadata": {},
     "output_type": "execute_result"
    }
   ],
   "source": [
    "x_resampled, y_resampled = res.random_undersample(x_train, y_train, strategy=undersample_strategy)\n",
    "\n",
    "x_resampled, y_resampled = res.random_oversample(x_resampled, y_resampled, strategy=oversample_strategy)\n",
    "res.class_distribution(y_resampled)"
   ]
  },
  {
   "cell_type": "code",
   "execution_count": 11,
   "metadata": {},
   "outputs": [],
   "source": [
    "with open('underover.pkl', 'wb') as file:\n",
    "\n",
    "    pickle.dump((x_resampled, y_resampled), file)"
   ]
  },
  {
   "cell_type": "code",
   "execution_count": 12,
   "metadata": {},
   "outputs": [
    {
     "data": {
      "text/plain": [
       "[(0, 518406), (1, 21816), (2, 5919777), (3, 4662347), (4, 389289), (5, 327916)]"
      ]
     },
     "execution_count": 12,
     "metadata": {},
     "output_type": "execute_result"
    }
   ],
   "source": [
    "x_resampled, y_resampled = res.random_undersample(x_train, y_train, strategy=undersample_strategy)\n",
    "\n",
    "x_resampled, y_resampled = res.smote(x_resampled, y_resampled, strategy=oversample_strategy)\n",
    "res.class_distribution(y_resampled)"
   ]
  },
  {
   "cell_type": "code",
   "execution_count": 13,
   "metadata": {},
   "outputs": [],
   "source": [
    "with open('undersmote.pkl', 'wb') as file:\n",
    "\n",
    "    pickle.dump((x_resampled, y_resampled), file)"
   ]
  },
  {
   "cell_type": "code",
   "execution_count": 14,
   "metadata": {},
   "outputs": [
    {
     "data": {
      "text/plain": [
       "[(0, 518406), (1, 21816), (2, 5919777), (3, 4662347), (4, 389289), (5, 327916)]"
      ]
     },
     "execution_count": 14,
     "metadata": {},
     "output_type": "execute_result"
    }
   ],
   "source": [
    "x_resampled, y_resampled = res.near_miss(x_train, y_train, strategy=undersample_strategy)\n",
    "\n",
    "x_resampled, y_resampled = res.smote(x_resampled, y_resampled, strategy=oversample_strategy)\n",
    "res.class_distribution(y_resampled)"
   ]
  },
  {
   "cell_type": "code",
   "execution_count": 15,
   "metadata": {},
   "outputs": [],
   "source": [
    "with open('nmsmote.pkl', 'wb') as file:\n",
    "\n",
    "    pickle.dump((x_resampled, y_resampled), file)"
   ]
  },
  {
   "cell_type": "code",
   "execution_count": null,
   "metadata": {},
   "outputs": [],
   "source": []
  }
 ],
 "metadata": {
  "kernelspec": {
   "display_name": "Python 3.8.13 ('ds')",
   "language": "python",
   "name": "python3"
  },
  "language_info": {
   "codemirror_mode": {
    "name": "ipython",
    "version": 3
   },
   "file_extension": ".py",
   "mimetype": "text/x-python",
   "name": "python",
   "nbconvert_exporter": "python",
   "pygments_lexer": "ipython3",
   "version": "3.8.13"
  },
  "orig_nbformat": 4,
  "vscode": {
   "interpreter": {
    "hash": "41af028af823f43b75c2c20ea16fbca771c765270e4c84d9dca821bfdd5f0240"
   }
  }
 },
 "nbformat": 4,
 "nbformat_minor": 2
}
